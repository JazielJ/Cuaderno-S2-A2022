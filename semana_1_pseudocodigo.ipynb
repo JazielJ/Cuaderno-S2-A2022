{
  "nbformat": 4,
  "nbformat_minor": 0,
  "metadata": {
    "colab": {
      "name": "semana 1 pseudocodigo",
      "provenance": [],
      "authorship_tag": "ABX9TyMWbx5x4h4NilQ7AzoQTLoU",
      "include_colab_link": true
    },
    "kernelspec": {
      "name": "python3",
      "display_name": "Python 3"
    },
    "language_info": {
      "name": "python"
    }
  },
  "cells": [
    {
      "cell_type": "markdown",
      "metadata": {
        "id": "view-in-github",
        "colab_type": "text"
      },
      "source": [
        "<a href=\"https://colab.research.google.com/github/JazielJ/Cuaderno-S2-A2022/blob/main/semana_1_pseudocodigo.ipynb\" target=\"_parent\"><img src=\"https://colab.research.google.com/assets/colab-badge.svg\" alt=\"Open In Colab\"/></a>"
      ]
    },
    {
      "cell_type": "code",
      "execution_count": null,
      "metadata": {
        "id": "V9nb8jcdZnpP"
      },
      "outputs": [],
      "source": [
        ""
      ]
    },
    {
      "cell_type": "markdown",
      "source": [
        "# Comparar numero\n",
        "Con el uso de Pseint para representar el diagrama de flujo y el pseudocodigo para un algoritmo de comparar numero.\n",
        "\n",
        "\n",
        "*   Resivira 2 parametros\n",
        "*   Los 2 mayores que cero\n",
        "\n"
      ],
      "metadata": {
        "id": "7Ft8FbSeZvdV"
      }
    },
    {
      "cell_type": "markdown",
      "source": [
        ""
      ],
      "metadata": {
        "id": "FhTutpSAax7X"
      }
    },
    {
      "cell_type": "markdown",
      "source": [
        "# Pseudocodigo\n",
        "Algoritmo compararNumeros\n",
        "\tLeer a\n",
        "\tLeer b\n",
        "\tSi a>b Entonces\n",
        "\t\tEscribir a\n",
        "\tSiNo\n",
        "\t\tEscribir 0\n",
        "\tFinSi\n",
        "FinAlgoritmo"
      ],
      "metadata": {
        "id": "i3u6xh44a8H2"
      }
    }
  ]
}